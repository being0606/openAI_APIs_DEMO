{
 "cells": [
  {
   "cell_type": "code",
   "execution_count": 1,
   "metadata": {},
   "outputs": [],
   "source": [
    "# !pip3 install nltk sacrebleu rouge-score"
   ]
  },
  {
   "cell_type": "code",
   "execution_count": null,
   "metadata": {},
   "outputs": [],
   "source": [
    "# !pip3 install --user -U nltk\n",
    "# !pip3 install --user -U numpy"
   ]
  },
  {
   "cell_type": "code",
   "execution_count": 6,
   "metadata": {},
   "outputs": [
    {
     "name": "stdout",
     "output_type": "stream",
     "text": [
      "3.9.1\n"
     ]
    },
    {
     "name": "stderr",
     "output_type": "stream",
     "text": [
      "[nltk_data] Downloading package wordnet to /Users/being/nltk_data...\n",
      "[nltk_data]   Package wordnet is already up-to-date!\n",
      "[nltk_data] Downloading package punkt to /Users/being/nltk_data...\n",
      "[nltk_data]   Package punkt is already up-to-date!\n"
     ]
    }
   ],
   "source": [
    "import nltk\n",
    "nltk.download('wordnet')\n",
    "nltk.download('punkt')\n",
    "print(nltk.__version__)"
   ]
  },
  {
   "cell_type": "code",
   "execution_count": null,
   "metadata": {},
   "outputs": [],
   "source": [
    "from nltk.tokenize import word_tokenize\n",
    "from nltk.translate.bleu_score import sentence_bleu\n",
    "from nltk.translate.meteor_score import meteor_score\n",
    "import sacrebleu\n",
    "from rouge_score import rouge_scorer\n",
    "\n",
    "# 참조 문장과 번역된 문장\n",
    "references = \"This is a test sentence for evaluation.\"\n",
    "hypothesis = \"This is a test sentence for translation evaluation.\"\n",
    "\n",
    "# 문장을 단어 리스트로 토큰화\n",
    "reference_tokens = word_tokenize(references)\n",
    "hypothesis_tokens = word_tokenize(hypothesis)\n",
    "\n",
    "# BLEU Score (NLTK)\n",
    "bleu_score = sentence_bleu([reference_tokens], hypothesis_tokens)\n",
    "print(f\"BLEU Score (NLTK): {bleu_score}\")\n",
    "\n",
    "# SacreBLEU\n",
    "sacre_bleu = sacrebleu.corpus_bleu([\" \".join(hypothesis_tokens)], [[\" \".join(reference_tokens)]])\n",
    "print(f\"SacreBLEU Score: {sacre_bleu.score}\")\n",
    "\n",
    "# METEOR Score\n",
    "meteor = meteor_score([reference_tokens], hypothesis_tokens)\n",
    "print(f\"METEOR Score: {meteor}\")\n",
    "\n",
    "# ROUGE Score\n",
    "scorer = rouge_scorer.RougeScorer(['rouge1', 'rouge2', 'rougeL'], use_stemmer=True)\n",
    "scores = scorer.score(\" \".join(reference_tokens), \" \".join(hypothesis_tokens))\n",
    "print(f\"ROUGE Scores: {scores}\")"
   ]
  }
 ],
 "metadata": {
  "kernelspec": {
   "display_name": "HJ",
   "language": "python",
   "name": "python3"
  },
  "language_info": {
   "codemirror_mode": {
    "name": "ipython",
    "version": 3
   },
   "file_extension": ".py",
   "mimetype": "text/x-python",
   "name": "python",
   "nbconvert_exporter": "python",
   "pygments_lexer": "ipython3",
   "version": "3.10.15"
  }
 },
 "nbformat": 4,
 "nbformat_minor": 2
}
