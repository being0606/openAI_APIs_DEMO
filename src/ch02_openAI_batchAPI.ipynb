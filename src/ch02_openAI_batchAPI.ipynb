{
 "cells": [
  {
   "cell_type": "code",
   "execution_count": 56,
   "metadata": {},
   "outputs": [],
   "source": [
    "from openai import OpenAI\n",
    "client = OpenAI()"
   ]
  },
  {
   "cell_type": "code",
   "execution_count": 57,
   "metadata": {},
   "outputs": [],
   "source": [
    "# file upload\n",
    "batch_input_file = client.files.create(\n",
    "  file=open(\"../data/ch02_batchinput.jsonl\", \"rb\"),\n",
    "  purpose=\"batch\"\n",
    ")"
   ]
  },
  {
   "cell_type": "code",
   "execution_count": 58,
   "metadata": {},
   "outputs": [
    {
     "data": {
      "text/plain": [
       "Batch(id='batch_6742fb58f76c8190b8241508f9b54704', completion_window='24h', created_at=1732442968, endpoint='/v1/chat/completions', input_file_id='file-FHYHLzZog8azWz7UH8e917', object='batch', status='validating', cancelled_at=None, cancelling_at=None, completed_at=None, error_file_id=None, errors=None, expired_at=None, expires_at=1732529368, failed_at=None, finalizing_at=None, in_progress_at=None, metadata={'description': '테스트를 위한 배치'}, output_file_id=None, request_counts=BatchRequestCounts(completed=0, failed=0, total=0))"
      ]
     },
     "execution_count": 58,
     "metadata": {},
     "output_type": "execute_result"
    }
   ],
   "source": [
    "# Create a new batch\n",
    "client.batches.create(\n",
    "    input_file_id=batch_input_file.id,\n",
    "    endpoint=\"/v1/chat/completions\",\n",
    "    completion_window=\"24h\",\n",
    "    metadata={\n",
    "      \"description\": \"테스트를 위한 배치\",\n",
    "    }\n",
    ")"
   ]
  },
  {
   "cell_type": "code",
   "execution_count": 59,
   "metadata": {},
   "outputs": [
    {
     "data": {
      "text/plain": [
       "[Batch(id='batch_6742fb58f76c8190b8241508f9b54704', completion_window='24h', created_at=1732442968, endpoint='/v1/chat/completions', input_file_id='file-FHYHLzZog8azWz7UH8e917', object='batch', status='validating', cancelled_at=None, cancelling_at=None, completed_at=None, error_file_id=None, errors=None, expired_at=None, expires_at=1732529368, failed_at=None, finalizing_at=None, in_progress_at=None, metadata={'description': '테스트를 위한 배치'}, output_file_id=None, request_counts=BatchRequestCounts(completed=0, failed=0, total=0)),\n",
       " Batch(id='batch_6742f89082b48190a2d8c3c039e531db', completion_window='24h', created_at=1732442256, endpoint='/v1/chat/completions', input_file_id='file-46zaS3KEVdwSD4m55PAa1M', object='batch', status='completed', cancelled_at=None, cancelling_at=None, completed_at=1732442260, error_file_id=None, errors=None, expired_at=None, expires_at=1732528656, failed_at=None, finalizing_at=1732442260, in_progress_at=1732442256, metadata={'description': '테스트를 위한 배치'}, output_file_id='file-RFNg3WjW4UVw1VFRYLEBsg', request_counts=BatchRequestCounts(completed=4, failed=0, total=4)),\n",
       " Batch(id='batch_6742f7ac98cc8190bd35110ec2e0e955', completion_window='24h', created_at=1732442028, endpoint='/v1/chat/completions', input_file_id='file-WB1PLkwqQxw6YfMFkmFZkq', object='batch', status='completed', cancelled_at=None, cancelling_at=None, completed_at=1732442286, error_file_id=None, errors=None, expired_at=None, expires_at=1732528428, failed_at=None, finalizing_at=1732442285, in_progress_at=1732442029, metadata={'description': '테스트를 위한 배치'}, output_file_id='file-BKWFZa4ZQC5CKKZuDopwcy', request_counts=BatchRequestCounts(completed=2, failed=0, total=2)),\n",
       " Batch(id='batch_6742f684f4ac8190a7bc6cc47486225c', completion_window='24h', created_at=1732441733, endpoint='/v1/chat/completions', input_file_id='file-XV1EQUh6dUon7N5xpBQkNE', object='batch', status='completed', cancelled_at=None, cancelling_at=None, completed_at=1732441779, error_file_id=None, errors=None, expired_at=None, expires_at=1732528133, failed_at=None, finalizing_at=1732441778, in_progress_at=1732441733, metadata={'description': '테스트를 위한 배치'}, output_file_id='file-MNaiYhSBPU2f7RU6MuaSDb', request_counts=BatchRequestCounts(completed=2, failed=0, total=2))]"
      ]
     },
     "execution_count": 59,
     "metadata": {},
     "output_type": "execute_result"
    }
   ],
   "source": [
    "client.batches.list().data"
   ]
  },
  {
   "cell_type": "code",
   "execution_count": 75,
   "metadata": {},
   "outputs": [
    {
     "name": "stdout",
     "output_type": "stream",
     "text": [
      "Batch ID: batch_6742fb58f76c8190b8241508f9b54704\n",
      "Status: completed\n",
      "Created At: 1732442968\n",
      "input_file_id: file-FHYHLzZog8azWz7UH8e917\n",
      "output_file_id: file-EA5oLpKAtv5vA2SEnSdnhX\n",
      "------\n",
      "Batch ID: batch_6742f89082b48190a2d8c3c039e531db\n",
      "Status: completed\n",
      "Created At: 1732442256\n",
      "input_file_id: file-46zaS3KEVdwSD4m55PAa1M\n",
      "output_file_id: file-RFNg3WjW4UVw1VFRYLEBsg\n",
      "------\n",
      "Batch ID: batch_6742f7ac98cc8190bd35110ec2e0e955\n",
      "Status: completed\n",
      "Created At: 1732442028\n",
      "input_file_id: file-WB1PLkwqQxw6YfMFkmFZkq\n",
      "output_file_id: file-BKWFZa4ZQC5CKKZuDopwcy\n",
      "------\n",
      "Batch ID: batch_6742f684f4ac8190a7bc6cc47486225c\n",
      "Status: completed\n",
      "Created At: 1732441733\n",
      "input_file_id: file-XV1EQUh6dUon7N5xpBQkNE\n",
      "output_file_id: file-MNaiYhSBPU2f7RU6MuaSDb\n",
      "------\n"
     ]
    }
   ],
   "source": [
    "# Batch 객체들의 리스트를 가져옵니다.\n",
    "batches = client.batches.list().data\n",
    "\n",
    "# 각 배치의 상세 정보를 출력합니다.\n",
    "for batch in batches:\n",
    "    print(f\"Batch ID: {batch.id}\")\n",
    "    print(f\"Status: {batch.status}\")\n",
    "    print(f\"Created At: {batch.created_at}\")\n",
    "    print(f\"input_file_id: {batch.input_file_id}\")\n",
    "    print(f\"output_file_id: {batch.output_file_id}\")\n",
    "    print(\"------\")"
   ]
  },
  {
   "cell_type": "code",
   "execution_count": 68,
   "metadata": {},
   "outputs": [
    {
     "name": "stdout",
     "output_type": "stream",
     "text": [
      "status:  in_progress time:  19:11:25\n",
      "status:  finalizing time:  19:11:26\n",
      "status:  completed time:  19:11:27\n"
     ]
    }
   ],
   "source": [
    "# status를 1초에 한번씩 확인하고 'completed'일때까지 로그를 출력\n",
    "import time\n",
    "while True:\n",
    "  status = client.batches.retrieve(\"batch_6742fb58f76c8190b8241508f9b54704\").status\n",
    "  print(\"status: \", status, \"time: \", time.strftime('%X', time.localtime()))\n",
    "  if status == \"completed\":\n",
    "    break\n",
    "  time.sleep(1)"
   ]
  },
  {
   "cell_type": "code",
   "execution_count": 81,
   "metadata": {},
   "outputs": [
    {
     "name": "stdout",
     "output_type": "stream",
     "text": [
      "{\"id\": \"batch_req_6742f8945e288190bc4217a55e6f429a\", \"custom_id\": \"request-1\", \"response\": {\"status_code\": 200, \"request_id\": \"3a4b1135a037e5c773540db5ae1caf3f\", \"body\": {\"id\": \"chatcmpl-AX3ezdypeH3CurvNw7WMAe32x3mTc\", \"object\": \"chat.completion\", \"created\": 1732442257, \"model\": \"gpt-4o-mini-2024-07-18\", \"choices\": [{\"index\": 0, \"message\": {\"role\": \"assistant\", \"content\": \"[\\uccab\\ubc88\\uc9f8 \\uc131\\uacf5!]\", \"refusal\": null}, \"logprobs\": null, \"finish_reason\": \"stop\"}], \"usage\": {\"prompt_tokens\": 47, \"completion_tokens\": 5, \"total_tokens\": 52, \"prompt_tokens_details\": {\"cached_tokens\": 0, \"audio_tokens\": 0}, \"completion_tokens_details\": {\"reasoning_tokens\": 0, \"audio_tokens\": 0, \"accepted_prediction_tokens\": 0, \"rejected_prediction_tokens\": 0}}, \"system_fingerprint\": \"fp_0705bf87c0\"}}, \"error\": null}\n",
      "{\"id\": \"batch_req_6742f8946f1081908c095c5dd885e7d3\", \"custom_id\": \"request-2\", \"response\": {\"status_code\": 200, \"request_id\": \"4f0f15e095e7f3b4372844f14e592648\", \"body\": {\"id\": \"chatcmpl-AX3ez1kZaNQept2MFfGV4bBRGRLdX\", \"object\": \"chat.completion\", \"created\": 1732442257, \"model\": \"gpt-4o-mini-2024-07-18\", \"choices\": [{\"index\": 0, \"message\": {\"role\": \"assistant\", \"content\": \"[\\ub450\\ubc88\\uca30 \\uc131\\uacf5!]\", \"refusal\": null}, \"logprobs\": null, \"finish_reason\": \"stop\"}], \"usage\": {\"prompt_tokens\": 47, \"completion_tokens\": 8, \"total_tokens\": 55, \"prompt_tokens_details\": {\"cached_tokens\": 0, \"audio_tokens\": 0}, \"completion_tokens_details\": {\"reasoning_tokens\": 0, \"audio_tokens\": 0, \"accepted_prediction_tokens\": 0, \"rejected_prediction_tokens\": 0}}, \"system_fingerprint\": \"fp_0705bf87c0\"}}, \"error\": null}\n",
      "{\"id\": \"batch_req_6742f8947f748190a4a2ed0ccc2536b5\", \"custom_id\": \"request-3\", \"response\": {\"status_code\": 200, \"request_id\": \"22d02fcbd34fccdae5308bf1bc419f5f\", \"body\": {\"id\": \"chatcmpl-AX3ezh9WG0QW4bncFzCeiid5LvmCg\", \"object\": \"chat.completion\", \"created\": 1732442257, \"model\": \"gpt-4o-mini-2024-07-18\", \"choices\": [{\"index\": 0, \"message\": {\"role\": \"assistant\", \"content\": \"[\\uc138\\ubc88\\uc9f8 \\uc131\\uacf5!]\", \"refusal\": null}, \"logprobs\": null, \"finish_reason\": \"stop\"}], \"usage\": {\"prompt_tokens\": 47, \"completion_tokens\": 5, \"total_tokens\": 52, \"prompt_tokens_details\": {\"cached_tokens\": 0, \"audio_tokens\": 0}, \"completion_tokens_details\": {\"reasoning_tokens\": 0, \"audio_tokens\": 0, \"accepted_prediction_tokens\": 0, \"rejected_prediction_tokens\": 0}}, \"system_fingerprint\": \"fp_3de1288069\"}}, \"error\": null}\n",
      "{\"id\": \"batch_req_6742f894943c8190a6a88d813d7f7eba\", \"custom_id\": \"request-4\", \"response\": {\"status_code\": 200, \"request_id\": \"c2b1c02fbdff89f1fb0df1d92300b6ee\", \"body\": {\"id\": \"chatcmpl-AX3f01muBUfq2R2cGWtToOmtEOxvx\", \"object\": \"chat.completion\", \"created\": 1732442258, \"model\": \"gpt-4o-mini-2024-07-18\", \"choices\": [{\"index\": 0, \"message\": {\"role\": \"assistant\", \"content\": \"\\uc548\\ub155\\ud558\\uc138\\uc694! \\ub124\\ubc88\\uc9f8 \\ud14c\\uc2a4\\ud2b8\\ub97c \\ud655\\uc778\\ud588\\uc2b5\\ub2c8\\ub2e4. [\\ub124\\ubc88\\uc9f8 \\uc131\\uacf5!]\", \"refusal\": null}, \"logprobs\": null, \"finish_reason\": \"stop\"}], \"usage\": {\"prompt_tokens\": 47, \"completion_tokens\": 15, \"total_tokens\": 62, \"prompt_tokens_details\": {\"cached_tokens\": 0, \"audio_tokens\": 0}, \"completion_tokens_details\": {\"reasoning_tokens\": 0, \"audio_tokens\": 0, \"accepted_prediction_tokens\": 0, \"rejected_prediction_tokens\": 0}}, \"system_fingerprint\": \"fp_3de1288069\"}}, \"error\": null}\n",
      "\n"
     ]
    }
   ],
   "source": [
    "file_response = client.files.content(\"file-RFNg3WjW4UVw1VFRYLEBsg\")\n",
    "print(file_response.text)"
   ]
  },
  {
   "cell_type": "code",
   "execution_count": 92,
   "metadata": {},
   "outputs": [],
   "source": [
    "# # https://raisonde.tistory.com/entry/한글-↔-유니코드-간편-변환기\n",
    "# 유니코드 : \\uccab\\ubc88\\uc9f8 \\uc131\\uacf5!\n",
    "# 한글 : 첫번째 성공!"
   ]
  }
 ],
 "metadata": {
  "kernelspec": {
   "display_name": "HJ",
   "language": "python",
   "name": "python3"
  },
  "language_info": {
   "codemirror_mode": {
    "name": "ipython",
    "version": 3
   },
   "file_extension": ".py",
   "mimetype": "text/x-python",
   "name": "python",
   "nbconvert_exporter": "python",
   "pygments_lexer": "ipython3",
   "version": "3.10.15"
  }
 },
 "nbformat": 4,
 "nbformat_minor": 2
}
