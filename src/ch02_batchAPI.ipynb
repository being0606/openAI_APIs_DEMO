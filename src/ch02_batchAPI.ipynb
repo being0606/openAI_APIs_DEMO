{
 "cells": [
  {
   "cell_type": "code",
   "execution_count": 38,
   "metadata": {},
   "outputs": [],
   "source": [
    "import time\n",
    "from openai import OpenAI\n",
    "client = OpenAI()"
   ]
  },
  {
   "cell_type": "code",
   "execution_count": 39,
   "metadata": {},
   "outputs": [],
   "source": [
    "# file upload\n",
    "batch_input_file = client.files.create(\n",
    "  file=open(\"../data/ch02_batchinput.jsonl\", \"rb\"),\n",
    "  purpose=\"batch\"\n",
    ")\n",
    "\n",
    "# Create a new batch\n",
    "client.batches.create(\n",
    "    input_file_id=batch_input_file.id,\n",
    "    endpoint=\"/v1/chat/completions\",\n",
    "    completion_window=\"24h\",\n",
    "    metadata={\n",
    "      \"description\": \"테스트를 위한 배치\",\n",
    "    }\n",
    ")\n",
    "start_time = time.time()"
   ]
  },
  {
   "cell_type": "code",
   "execution_count": null,
   "metadata": {},
   "outputs": [
    {
     "name": "stdout",
     "output_type": "stream",
     "text": [
      "Batch ID: batch_674338f7552881908768f70dae8e5ea9\n",
      "Status: validating\n",
      "Created At: 1732458743\n",
      "input_file_id: file-Q8mYsoemnm5DxZzjiPHUZY\n",
      "output_file_id: None\n",
      "------\n",
      "Batch ID: batch_674336d52b688190b0d397478747745f\n",
      "Status: completed\n",
      "Created At: 1732458197\n",
      "input_file_id: file-Cj8Lt9CWeyuJZ925C2ktKF\n",
      "output_file_id: file-7ztiejaK3fWFWvfVBxZqUg\n",
      "------\n",
      "Batch ID: batch_674335e4d4ac81909430e1e4f05dc8a3\n",
      "Status: completed\n",
      "Created At: 1732457956\n",
      "input_file_id: file-L88QzYT6zQbzhDtsH8GCJa\n",
      "output_file_id: file-T2RKu1GkBaRZvsbmKPZMDM\n",
      "------\n",
      "Batch ID: batch_6742fb58f76c8190b8241508f9b54704\n",
      "Status: completed\n",
      "Created At: 1732442968\n",
      "input_file_id: file-FHYHLzZog8azWz7UH8e917\n",
      "output_file_id: file-EA5oLpKAtv5vA2SEnSdnhX\n",
      "------\n",
      "Batch ID: batch_6742f89082b48190a2d8c3c039e531db\n",
      "Status: completed\n",
      "Created At: 1732442256\n",
      "input_file_id: file-46zaS3KEVdwSD4m55PAa1M\n",
      "output_file_id: file-RFNg3WjW4UVw1VFRYLEBsg\n",
      "------\n",
      "Batch ID: batch_6742f7ac98cc8190bd35110ec2e0e955\n",
      "Status: completed\n",
      "Created At: 1732442028\n",
      "input_file_id: file-WB1PLkwqQxw6YfMFkmFZkq\n",
      "output_file_id: file-BKWFZa4ZQC5CKKZuDopwcy\n",
      "------\n",
      "Batch ID: batch_6742f684f4ac8190a7bc6cc47486225c\n",
      "Status: completed\n",
      "Created At: 1732441733\n",
      "input_file_id: file-XV1EQUh6dUon7N5xpBQkNE\n",
      "output_file_id: file-MNaiYhSBPU2f7RU6MuaSDb\n",
      "------\n"
     ]
    }
   ],
   "source": [
    "# Batch 객체들의 리스트를 가져옵니다.\n",
    "batches = client.batches.list().data\n",
    "\n",
    "# 각 배치의 상세 정보를 출력합니다.\n",
    "for batch in batches[:5]:\n",
    "    print(f\"Batch ID: {batch.id}\")\n",
    "    print(f\"Status: {batch.status}\")\n",
    "    print(f\"Created At: {batch.created_at}\")\n",
    "    print(f\"input_file_id: {batch.input_file_id}\")\n",
    "    print(f\"output_file_id: {batch.output_file_id}\")\n",
    "    print(\"------\")"
   ]
  },
  {
   "cell_type": "code",
   "execution_count": null,
   "metadata": {},
   "outputs": [],
   "source": [
    "# status를 15초에 한번씩 확인하고 'completed'일때까지 로그를 출력\n",
    "# status가 'completed'가 되면 루프를 탈출합니다.\n",
    "# 총 걸린 시간을 추가로 출력합니다.\n",
    "while True:\n",
    "  status = client.batches.retrieve(client.batches.list().data[0].id).status\n",
    "  print(\"time: \", time.strftime('%X', time.localtime()), \"   |    status: \", status)\n",
    "  if status == \"completed\":\n",
    "    break\n",
    "  time.sleep(60) # 60초에 한번씩 확인\n",
    "\n",
    "print(\"Total time: \", time.time() - start_time)\n",
    "\n",
    "# output file을 다운로드 받아서 출력\n",
    "file_response = client.files.content(client.batches.list().data[0].output_file_id)\n",
    "print(file_response.text.encode('utf-8').decode('unicode-escape'))"
   ]
  },
  {
   "cell_type": "code",
   "execution_count": null,
   "metadata": {},
   "outputs": [],
   "source": [
    "# # https://raisonde.tistory.com/entry/한글-↔-유니코드-간편-변환기\n",
    "# 유니코드 : \\uccab\\ubc88\\uc9f8 \\uc131\\uacf5!\n",
    "# 한글 : 첫번째 성공!"
   ]
  },
  {
   "cell_type": "code",
   "execution_count": null,
   "metadata": {},
   "outputs": [
    {
     "data": {
      "text/plain": [
       "' \"content\": \"[첫번째 성공!]\"'"
      ]
     },
     "execution_count": 37,
     "metadata": {},
     "output_type": "execute_result"
    }
   ],
   "source": [
    "file_response.text.encode('utf-8').decode('unicode-escape').split(\"\\n\")[0].split(\",\")[10]"
   ]
  },
  {
   "cell_type": "code",
   "execution_count": null,
   "metadata": {},
   "outputs": [],
   "source": [
    "# \"../data/ch02_batchinput.jsonl\", \"rb\" 해당경로에 저장\n",
    "with open(\"../data/ch03_batchinput_sentencePair_세종실록_filtered_sampled_10.jsonl\", \"w\", encoding=\"utf-8\") as f:\n",
    "    for request in file_response:\n",
    "        f.write(file_response.dumps(request, ensure_ascii=False) + \"\\n\")"
   ]
  }
 ],
 "metadata": {
  "kernelspec": {
   "display_name": "HJ",
   "language": "python",
   "name": "python3"
  },
  "language_info": {
   "codemirror_mode": {
    "name": "ipython",
    "version": 3
   },
   "file_extension": ".py",
   "mimetype": "text/x-python",
   "name": "python",
   "nbconvert_exporter": "python",
   "pygments_lexer": "ipython3",
   "version": "3.10.15"
  }
 },
 "nbformat": 4,
 "nbformat_minor": 2
}
