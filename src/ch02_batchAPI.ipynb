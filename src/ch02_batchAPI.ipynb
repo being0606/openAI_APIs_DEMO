{
 "cells": [
  {
   "cell_type": "code",
   "execution_count": 1,
   "metadata": {},
   "outputs": [],
   "source": [
    "import time\n",
    "from openai import OpenAI\n",
    "client = OpenAI()"
   ]
  },
  {
   "cell_type": "code",
   "execution_count": 2,
   "metadata": {},
   "outputs": [],
   "source": [
    "# file upload\n",
    "batch_input_file = client.files.create(\n",
    "  file=open(\"../data/ch02_batchinput.jsonl\", \"rb\"),\n",
    "  purpose=\"batch\"\n",
    ")\n",
    "\n",
    "# Create a new batch\n",
    "client.batches.create(\n",
    "    input_file_id=batch_input_file.id,\n",
    "    endpoint=\"/v1/chat/completions\",\n",
    "    completion_window=\"24h\",\n",
    "    metadata={\n",
    "      \"description\": \"테스트를 위한 배치\",\n",
    "    }\n",
    ")\n",
    "start_time = time.time()"
   ]
  },
  {
   "cell_type": "code",
   "execution_count": 13,
   "metadata": {},
   "outputs": [
    {
     "name": "stdout",
     "output_type": "stream",
     "text": [
      "Batch ID: batch_67445ef4f3e4819094e37d2b8eef6d44\n",
      "Status: completed\n",
      "Created At: 1732534004\n",
      "input_file_id: file-DfwxQAsxRrDieLTvMdU8QS\n",
      "output_file_id: file-NVMy8b4cCGjwSVJW6ST47f\n",
      "------\n",
      "Batch ID: batch_67443bc16cf08190a7246b9cb492ce01\n",
      "Status: in_progress\n",
      "Created At: 1732524993\n",
      "input_file_id: file-JVgBMZfhVEAzUnFXwHsAnw\n",
      "output_file_id: None\n",
      "------\n",
      "Batch ID: batch_674338f7552881908768f70dae8e5ea9\n",
      "Status: completed\n",
      "Created At: 1732458743\n",
      "input_file_id: file-Q8mYsoemnm5DxZzjiPHUZY\n",
      "output_file_id: file-PVsQEdu7xe2Qe1uHSzEUXQ\n",
      "------\n",
      "Batch ID: batch_674336d52b688190b0d397478747745f\n",
      "Status: completed\n",
      "Created At: 1732458197\n",
      "input_file_id: file-Cj8Lt9CWeyuJZ925C2ktKF\n",
      "output_file_id: file-7ztiejaK3fWFWvfVBxZqUg\n",
      "------\n",
      "Batch ID: batch_674335e4d4ac81909430e1e4f05dc8a3\n",
      "Status: completed\n",
      "Created At: 1732457956\n",
      "input_file_id: file-L88QzYT6zQbzhDtsH8GCJa\n",
      "output_file_id: file-T2RKu1GkBaRZvsbmKPZMDM\n",
      "------\n"
     ]
    }
   ],
   "source": [
    "# Batch 객체들의 리스트를 가져옵니다.\n",
    "batches = client.batches.list().data\n",
    "\n",
    "# 각 배치의 상세 정보를 출력합니다.\n",
    "for batch in batches[:5]:\n",
    "    print(f\"Batch ID: {batch.id}\")\n",
    "    print(f\"Status: {batch.status}\")\n",
    "    print(f\"Created At: {batch.created_at}\")\n",
    "    print(f\"input_file_id: {batch.input_file_id}\")\n",
    "    print(f\"output_file_id: {batch.output_file_id}\")\n",
    "    print(\"------\")"
   ]
  },
  {
   "cell_type": "code",
   "execution_count": 5,
   "metadata": {},
   "outputs": [
    {
     "name": "stdout",
     "output_type": "stream",
     "text": [
      "time:  20:27:43    |    status:  completed\n",
      "Total time:  58.700679779052734\n",
      "{\"id\": \"batch_req_67445f08ee8c8190a67820139f242258\", \"custom_id\": \"request-1\", \"response\": {\"status_code\": 200, \"request_id\": \"5b54e823cfed0fe0a4cf5b443c6a3c45\", \"body\": {\"id\": \"chatcmpl-AXRWoeiADhlkTOy0CZjg6LKGP9G86\", \"object\": \"chat.completion\", \"created\": 1732534006, \"model\": \"gpt-4o-mini-2024-07-18\", \"choices\": [{\"index\": 0, \"message\": {\"role\": \"assistant\", \"content\": \"[첫번쨰 성공!]\", \"refusal\": null}, \"logprobs\": null, \"finish_reason\": \"stop\"}], \"usage\": {\"prompt_tokens\": 47, \"completion_tokens\": 8, \"total_tokens\": 55, \"prompt_tokens_details\": {\"cached_tokens\": 0, \"audio_tokens\": 0}, \"completion_tokens_details\": {\"reasoning_tokens\": 0, \"audio_tokens\": 0, \"accepted_prediction_tokens\": 0, \"rejected_prediction_tokens\": 0}}, \"system_fingerprint\": \"fp_0705bf87c0\"}}, \"error\": null}\n",
      "{\"id\": \"batch_req_67445f09016c8190b596ee73a0e8ba8e\", \"custom_id\": \"request-2\", \"response\": {\"status_code\": 200, \"request_id\": \"1fae76e32f7bb83f0969400058ce92ca\", \"body\": {\"id\": \"chatcmpl-AXRWpwbJdNtWU0ZGVilevYzSSkwa0\", \"object\": \"chat.completion\", \"created\": 1732534007, \"model\": \"gpt-4o-mini-2024-07-18\", \"choices\": [{\"index\": 0, \"message\": {\"role\": \"assistant\", \"content\": \"[두번째 성공!]\", \"refusal\": null}, \"logprobs\": null, \"finish_reason\": \"stop\"}], \"usage\": {\"prompt_tokens\": 47, \"completion_tokens\": 5, \"total_tokens\": 52, \"prompt_tokens_details\": {\"cached_tokens\": 0, \"audio_tokens\": 0}, \"completion_tokens_details\": {\"reasoning_tokens\": 0, \"audio_tokens\": 0, \"accepted_prediction_tokens\": 0, \"rejected_prediction_tokens\": 0}}, \"system_fingerprint\": \"fp_0705bf87c0\"}}, \"error\": null}\n",
      "{\"id\": \"batch_req_67445f0911288190aba9ebf5e33cdb8d\", \"custom_id\": \"request-3\", \"response\": {\"status_code\": 200, \"request_id\": \"d84f7df29803d6e606ba2055686dd920\", \"body\": {\"id\": \"chatcmpl-AXRWoN4w3OLS3YzBYlArjBXC2I3gF\", \"object\": \"chat.completion\", \"created\": 1732534006, \"model\": \"gpt-4o-mini-2024-07-18\", \"choices\": [{\"index\": 0, \"message\": {\"role\": \"assistant\", \"content\": \"세번쨰 성공!\", \"refusal\": null}, \"logprobs\": null, \"finish_reason\": \"stop\"}], \"usage\": {\"prompt_tokens\": 47, \"completion_tokens\": 7, \"total_tokens\": 54, \"prompt_tokens_details\": {\"cached_tokens\": 0, \"audio_tokens\": 0}, \"completion_tokens_details\": {\"reasoning_tokens\": 0, \"audio_tokens\": 0, \"accepted_prediction_tokens\": 0, \"rejected_prediction_tokens\": 0}}, \"system_fingerprint\": \"fp_3de1288069\"}}, \"error\": null}\n",
      "{\"id\": \"batch_req_67445f09216481908f4c798177f11136\", \"custom_id\": \"request-4\", \"response\": {\"status_code\": 200, \"request_id\": \"474aecdeaeaa06b0ccc20c96c4b1ecf6\", \"body\": {\"id\": \"chatcmpl-AXRWp7nQHOmk9KvQ7GJgGa9cRhx5M\", \"object\": \"chat.completion\", \"created\": 1732534007, \"model\": \"gpt-4o-mini-2024-07-18\", \"choices\": [{\"index\": 0, \"message\": {\"role\": \"assistant\", \"content\": \"[네번쨰 성공!]\", \"refusal\": null}, \"logprobs\": null, \"finish_reason\": \"stop\"}], \"usage\": {\"prompt_tokens\": 47, \"completion_tokens\": 8, \"total_tokens\": 55, \"prompt_tokens_details\": {\"cached_tokens\": 0, \"audio_tokens\": 0}, \"completion_tokens_details\": {\"reasoning_tokens\": 0, \"audio_tokens\": 0, \"accepted_prediction_tokens\": 0, \"rejected_prediction_tokens\": 0}}, \"system_fingerprint\": \"fp_0705bf87c0\"}}, \"error\": null}\n",
      "\n"
     ]
    }
   ],
   "source": [
    "# status를 15초에 한번씩 확인하고 'completed'일때까지 로그를 출력\n",
    "# status가 'completed'가 되면 루프를 탈출합니다.\n",
    "# 총 걸린 시간을 추가로 출력합니다.\n",
    "while True:\n",
    "  status = client.batches.retrieve(client.batches.list().data[0].id).status\n",
    "  print(\"time: \", time.strftime('%X', time.localtime()), \"   |    status: \", status)\n",
    "  if status == \"completed\":\n",
    "    break\n",
    "  time.sleep(60) # 60초에 한번씩 확인\n",
    "\n",
    "print(\"Total time: \", time.time() - start_time)\n",
    "\n",
    "# output file을 다운로드 받아서 출력\n",
    "file_response = client.files.content(client.batches.list().data[0].output_file_id)\n",
    "print(file_response.text.encode('utf-8').decode('unicode-escape'))"
   ]
  },
  {
   "cell_type": "code",
   "execution_count": 6,
   "metadata": {},
   "outputs": [
    {
     "data": {
      "text/plain": [
       "' \"content\": \"[첫번쨰 성공!]\"'"
      ]
     },
     "execution_count": 6,
     "metadata": {},
     "output_type": "execute_result"
    }
   ],
   "source": [
    "file_response.text.encode('utf-8').decode('unicode-escape').split(\"\\n\")[0].split(\",\")[10]"
   ]
  },
  {
   "cell_type": "code",
   "execution_count": 12,
   "metadata": {},
   "outputs": [],
   "source": [
    "# 응답 내용을 파일로 저장\n",
    "with open(\"../data/ch02_batchoutput.jsonl\", \"w\", encoding=\"utf-8\") as f:\n",
    "    f.write(file_response.text.encode('utf-8').decode('unicode-escape'))"
   ]
  }
 ],
 "metadata": {
  "kernelspec": {
   "display_name": "HJ",
   "language": "python",
   "name": "python3"
  },
  "language_info": {
   "codemirror_mode": {
    "name": "ipython",
    "version": 3
   },
   "file_extension": ".py",
   "mimetype": "text/x-python",
   "name": "python",
   "nbconvert_exporter": "python",
   "pygments_lexer": "ipython3",
   "version": "3.10.15"
  }
 },
 "nbformat": 4,
 "nbformat_minor": 2
}
